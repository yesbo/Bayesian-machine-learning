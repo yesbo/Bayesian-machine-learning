{
 "cells": [
  {
   "cell_type": "code",
   "execution_count": 2,
   "metadata": {},
   "outputs": [],
   "source": [
    "import time\n",
    "import pandas as pd\n",
    "import numpy as np\n",
    "import matplotlib.pyplot as plt\n",
    "import scipy.stats as stat\n",
    "import numpy.ma as mask\n",
    "import warnings\n",
    "import pickle"
   ]
  },
  {
   "cell_type": "markdown",
   "metadata": {},
   "source": [
    "# Load Data"
   ]
  },
  {
   "cell_type": "code",
   "execution_count": 3,
   "metadata": {},
   "outputs": [],
   "source": [
    "rating = pd.read_csv(\"movies_csv/ratings.csv\", header = None, names = ['user_id', 'movie_id', 'rating'])\n",
    "rating_test = pd.read_csv(\"movies_csv/ratings_test.csv\", header = None, names = ['user_id', 'movie_id', 'rating'])"
   ]
  },
  {
   "cell_type": "code",
   "execution_count": 4,
   "metadata": {},
   "outputs": [],
   "source": [
    "with open('movies_csv/movies.txt', 'rb') as f:\n",
    "    movie_names = f.readlines()"
   ]
  },
  {
   "cell_type": "code",
   "execution_count": 5,
   "metadata": {},
   "outputs": [],
   "source": [
    "# preset constant\n",
    "d = 5\n",
    "c = 1\n",
    "sigma = 1"
   ]
  },
  {
   "cell_type": "code",
   "execution_count": 6,
   "metadata": {},
   "outputs": [
    {
     "name": "stdout",
     "output_type": "stream",
     "text": [
      "[943, 1682]\n"
     ]
    }
   ],
   "source": [
    "'''\n",
    "N the len of U vector\n",
    "M the len of V vector\n",
    "'''\n",
    "N = rating['user_id'].unique().size\n",
    "M = max(rating['movie_id'].unique().size, len(movie_names))\n",
    "print([N, M])"
   ]
  },
  {
   "cell_type": "markdown",
   "metadata": {},
   "source": [
    "# Implementation of EM"
   ]
  },
  {
   "cell_type": "code",
   "execution_count": 12,
   "metadata": {},
   "outputs": [],
   "source": [
    "\n",
    "# Implement EM algorithm\n",
    "class EM:\n",
    "    def __init__(self, R, U, V, d, c, sigma):\n",
    "        self.R = R\n",
    "        self.U = U\n",
    "        self.V = V\n",
    "        self.d = d\n",
    "        self.c = c\n",
    "        self.sigma = sigma\n",
    "        self.sigma_square = sigma ** 2\n",
    "\n",
    "    def Expectation(self):\n",
    "        prod = np.matmul(self.U, self.V.T) / self.sigma\n",
    "        cdf_value = stat.norm.cdf(-prod)\n",
    "        pdf_value = stat.norm.pdf(-prod)\n",
    "        positive, negative = self.R == -1, self.R == 1\n",
    "        pos = self.sigma * pdf_value / (1 - cdf_value)\n",
    "        neg = - self.sigma * pdf_value / cdf_value\n",
    "        result_Expectation = prod + mask.masked_array(pos, positive).filled(0) + mask.masked_array(neg, negative).filled(0)\n",
    "        return result_Expectation\n",
    "\n",
    "    # For the M step, as the U and V are symmetric variables\n",
    "    # the update of U and V can be achieved by one single function, using a booUpdateU as flag\n",
    "    # if booUpdateU, then update U\n",
    "    def Maximization(self, new_vec, booUpdateU=True):\n",
    "        if booUpdateU:\n",
    "            inversed = np.linalg.inv(np.identity(d) / self.c + np.matmul(self.V.T, self.V) / self.sigma)\n",
    "            prod_e = np.matmul(new_vec, self.V) / self.sigma\n",
    "            new_U = np.matmul(prod_e, inversed)\n",
    "            self.U = new_U\n",
    "        else:\n",
    "            inversed = np.linalg.inv(np.identity(d) / self.c + np.matmul(self.U.T, self.U) / self.sigma)\n",
    "            prod_e = np.matmul(new_vec.T, self.U) / self.sigma\n",
    "            new_V = np.matmul(prod_e, inversed)\n",
    "            self.V = new_V\n",
    "        return\n",
    "\n",
    "    def cal_lnP(self):\n",
    "        const = -(self.U.shape[0] + self.V.shape[0]) * np.log(2 * np.pi * self.c)\n",
    "        norm_square = - (np.trace(np.inner(self.U, self.U)) + np.trace(np.inner(self.V, self.V))) / (2 * self.c)\n",
    "        cdf_value = stat.norm.cdf(np.matmul(self.U, self.V.T) / self.sigma)\n",
    "        positive, negative = self.R == -1, self.R == 1\n",
    "        pos, neg = np.log(cdf_value), np.log(1-cdf_value)\n",
    "        result_cal_lnP = const + norm_square + np.sum(mask.masked_array(pos, positive).filled(0)) + np.sum(mask.masked_array(neg, negative).filled(0))\n",
    "        return result_cal_lnP\n",
    "\n",
    "   # One single iteration\n",
    "    def iter(self):\n",
    "        expectation = self.Expectation()\n",
    "        update_U = True\n",
    "        self.Maximization(expectation, update_U)\n",
    "        expectation = self.Expectation()\n",
    "        update_U = False\n",
    "        self.Maximization(expectation, update_U)\n",
    "        return self.cal_lnP()\n",
    "\n",
    "    def predict(self, user_id, movie_id):\n",
    "        prod = np.matmul(self.U[user_id], self.V[movie_id].T)\n",
    "        pr = stat.norm.cdf(prod)\n",
    "        if pr > 0.5:\n",
    "            return 1\n",
    "        else:\n",
    "            return -1"
   ]
  },
  {
   "cell_type": "markdown",
   "metadata": {},
   "source": [
    "# Prepare the data for iteration"
   ]
  },
  {
   "cell_type": "code",
   "execution_count": 8,
   "metadata": {},
   "outputs": [],
   "source": [
    "# N * M matrix for update preparation\n",
    "# if some user-movie pairs is not visited in training data, then nan\n",
    "R_train = np.full([N, M], np.nan)\n",
    "for index, row in rating.iterrows():\n",
    "    R_train[row[0]-1][row[1]-1] = row[2] # ID - 1 to fit the index of matrix\n",
    "# Initialize U and V\n",
    "ini_sigma_sqaure = 0.1\n",
    "ini_scale = np.sqrt(ini_sigma_sqaure)\n",
    "U = np.random.normal(0, ini_scale, (N, d)).astype(np.float64)\n",
    "V = np.random.normal(0, ini_scale, (M, d)).astype(np.float64)"
   ]
  },
  {
   "cell_type": "markdown",
   "metadata": {},
   "source": [
    "# a) 100 iterations"
   ]
  },
  {
   "cell_type": "code",
   "execution_count": 13,
   "metadata": {},
   "outputs": [
    {
     "data": {
      "image/png": "[encoded data removed]",
      "text/plain": [
       "<Figure size 432x288 with 1 Axes>"
      ]
     },
     "metadata": {},
     "output_type": "display_data"
    },
    {
     "name": "stdout",
     "output_type": "stream",
     "text": [
      "--- 73.28979778289795 seconds for running question (a)---\n"
     ]
    }
   ],
   "source": [
    "warnings.filterwarnings('ignore')\n",
    "start_time = time.time()\n",
    "model = EM(R_train, U, V, d, c, sigma)\n",
    "result = []\n",
    "for i in range(100):\n",
    "    result.append(model.iter())\n",
    "plt.plot(np.arange(99), result[1:])\n",
    "plt.xlabel(\"Iterations\")\n",
    "plt.ylabel(\"lnP(R,U,V)\")\n",
    "plt.show()\n",
    "print(\"--- %s seconds for running question (a)---\" % (time.time() - start_time))"
   ]
  },
  {
   "cell_type": "markdown",
   "metadata": {},
   "source": [
    "# b) 100 iterations with 5 different random starting point"
   ]
  },
  {
   "cell_type": "markdown",
   "metadata": {},
   "source": [
    "## 1) Fit the 5 models"
   ]
  },
  {
   "cell_type": "code",
   "execution_count": 14,
   "metadata": {
    "scrolled": true
   },
   "outputs": [
    {
     "name": "stdout",
     "output_type": "stream",
     "text": [
      "Model # 1 done\n",
      "Model # 2 done\n",
      "Model # 3 done\n",
      "Model # 4 done\n",
      "Model # 5 done\n",
      "--- 379.7731499671936 seconds for running question (b)---\n"
     ]
    }
   ],
   "source": [
    "warnings.filterwarnings('ignore')\n",
    "start_time = time.time()\n",
    "results_folder = []\n",
    "for i in range(5):\n",
    "    result = []\n",
    "    # each time, generate a new random series and fit the model\n",
    "    U = np.random.normal(0, ini_scale, (N, d)).astype(np.float64)\n",
    "    V = np.random.normal(0, ini_scale, (M, d)).astype(np.float64)\n",
    "    model = EM(R_train, U, V, d, c, sigma)\n",
    "    for _ in range(100):\n",
    "        result.append(model.iter())\n",
    "    results_folder.append(result)\n",
    "    print(\"Model # %s done\" % (i+1))\n",
    "\n",
    "print(\"--- %s seconds for running question (b)---\" % (time.time() - start_time))\n",
    "pickle.dump(results_folder, open('results_question_b.pkl', 'wb+'))"
   ]
  },
  {
   "cell_type": "markdown",
   "metadata": {},
   "source": [
    "## 2) Plot the 5 results"
   ]
  },
  {
   "cell_type": "code",
   "execution_count": 15,
   "metadata": {},
   "outputs": [
    {
     "data": {
      "image/png": "[encoded data removed]",
      "text/plain": [
       "<Figure size 432x288 with 1 Axes>"
      ]
     },
     "metadata": {},
     "output_type": "display_data"
    }
   ],
   "source": [
    "colors = {0: 'g', 1: 'b', 2: 'k', 3: 'y', 4: 'm'}\n",
    "for i in range(5):\n",
    "    plt.plot(np.arange(80), results_folder[i][20:], colors[i]+'o', label=str(i))\n",
    "plt.xlabel(\"Iterations\")\n",
    "plt.ylabel(\"lnP(R,U,V)\")\n",
    "plt.legend()\n",
    "plt.show()"
   ]
  },
  {
   "cell_type": "markdown",
   "metadata": {},
   "source": [
    "# c) Test set fit Results"
   ]
  },
  {
   "cell_type": "code",
   "execution_count": 36,
   "metadata": {},
   "outputs": [
    {
     "name": "stdout",
     "output_type": "stream",
     "text": [
      "      -1     1\n",
      "-1  1402   604\n",
      "1    839  2155\n",
      "0.71443256\n"
     ]
    }
   ],
   "source": [
    "warnings.filterwarnings('ignore')\n",
    "U = np.random.normal(0, ini_scale, (N, d)).astype(np.float64)\n",
    "V = np.random.normal(0, ini_scale, (M, d)).astype(np.float64)\n",
    "model = EM(R_train, U, V, d, c, sigma)\n",
    "result = []\n",
    "for i in range(300):\n",
    "    result.append(model.iter())\n",
    "# initial the confusion matrix\n",
    "count = np.zeros([2, 2])\n",
    "\n",
    "for i, row in rating_test.iterrows():\n",
    "    p = model.predict(row[0]-1, row[1]-1)\n",
    "    label, p = max(0, row[2]), max(0, p)\n",
    "    count[label][p] += 1\n",
    "print(count)\n",
    "acc = (count[0][0] + count[1][1]) / np.sum(count)\n",
    "print(acc)"
   ]
  }
 ],
 "metadata": {
  "kernelspec": {
   "display_name": "Python 3",
   "language": "python",
   "name": "python3"
  },
  "language_info": {
   "codemirror_mode": {
    "name": "ipython",
    "version": 3
   },
   "file_extension": ".py",
   "mimetype": "text/x-python",
   "name": "python",
   "nbconvert_exporter": "python",
   "pygments_lexer": "ipython3",
   "version": "3.6.5"
  }
 },
 "nbformat": 4,
 "nbformat_minor": 2
}
